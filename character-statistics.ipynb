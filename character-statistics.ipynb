{
 "cells": [
  {
   "metadata": {},
   "cell_type": "markdown",
   "source": [
    "# Character Statistics\n",
    "---"
   ],
   "id": "923d4f565ea81dbf"
  },
  {
   "metadata": {},
   "cell_type": "markdown",
   "source": "### Libraries",
   "id": "83b87b7dee8d72aa"
  },
  {
   "metadata": {
    "ExecuteTime": {
     "end_time": "2024-10-01T14:52:09.417636Z",
     "start_time": "2024-10-01T14:52:09.412821Z"
    }
   },
   "cell_type": "code",
   "source": [
    "import numpy as np\n",
    "import pandas as pd\n",
    "import seaborn as sns\n",
    "import matplotlib.pyplot as plt\n",
    "import csv"
   ],
   "id": "6285ffafc42a4311",
   "outputs": [],
   "execution_count": 214
  },
  {
   "metadata": {},
   "cell_type": "markdown",
   "source": "### Settings",
   "id": "7273888891b9f6e4"
  },
  {
   "metadata": {
    "ExecuteTime": {
     "end_time": "2024-10-01T14:52:09.466791Z",
     "start_time": "2024-10-01T14:52:09.461635Z"
    }
   },
   "cell_type": "code",
   "source": [
    "pd.options.mode.copy_on_write = True\n",
    "plt.style.use('dark_background')\n",
    "# plt.style.use('Solarize_Light2')\n",
    "# plt.style.use('ggplot')"
   ],
   "id": "c01944c6e0638e0e",
   "outputs": [],
   "execution_count": 215
  },
  {
   "metadata": {},
   "cell_type": "markdown",
   "source": "### .csv formatting",
   "id": "f3ae1431ac242898"
  },
  {
   "metadata": {
    "collapsed": true,
    "ExecuteTime": {
     "end_time": "2024-10-01T14:52:09.527181Z",
     "start_time": "2024-10-01T14:52:09.517921Z"
    }
   },
   "cell_type": "code",
   "source": [
    "# Open csv\n",
    "with open(\"data/marios.csv\", \"r\") as file: \n",
    "    reader = csv.reader(file) \n",
    "    \n",
    "    with open(\"character-statistics.csv\", \"w\") as result: \n",
    "        writer = csv.writer(result) \n",
    "        \n",
    "        # Remove rows & columns\n",
    "        i = 0\n",
    "        for row in reader:\n",
    "            if i != 0 and i != 1 and  i !=2:\n",
    "                writer.writerow(row[1:])\n",
    "   \n",
    "            # Rename Alignment columns         \n",
    "            if i == 1:\n",
    "                row[5] = \"Align_Law\"\n",
    "                row[6] = \"Align_Moral\"\n",
    "                writer.writerow(row[1:])\n",
    "            \n",
    "            i += 1\n",
    "        "
   ],
   "id": "initial_id",
   "outputs": [],
   "execution_count": 216
  },
  {
   "metadata": {
    "ExecuteTime": {
     "end_time": "2024-10-01T14:52:09.617277Z",
     "start_time": "2024-10-01T14:52:09.576607Z"
    }
   },
   "cell_type": "code",
   "source": [
    "# Make the dataframe\n",
    "data = pd.read_csv(\"character-statistics.csv\")\n",
    "# Drop empty rows\n",
    "data = data.dropna(subset=[\"Name\"])\n",
    "data.head()"
   ],
   "id": "cf4f99d0bd53b60b",
   "outputs": [
    {
     "data": {
      "text/plain": [
       "                 Name  Gender      Race    Size Align_Law Align_Moral   Age  \\\n",
       "0                Ursa  Female  Half-Elf  Medium   Chaotic     Neutral  22.0   \n",
       "1               Emily  Female    Tabaxi  Medium   Chaotic        Good  20.0   \n",
       "2        Anillia Wulf  Female     Human  Medium   Chaotic        Good  20.0   \n",
       "3    Belkas Amberwood    Male  Halfling   Small    Lawful        Good  35.0   \n",
       "4  Sylia Nightblossom  Female       Elf  Medium   Chaotic     Neutral  17.0   \n",
       "\n",
       "          Background    Relationships Wellbeing  ...  l3 Multiclass 3  l4  \\\n",
       "0           Criminal  In Relationship     Alive  ... NaN          NaN NaN   \n",
       "1        House Agent  In Relationship     Alive  ... NaN          NaN NaN   \n",
       "2        Entertainer           Single     Alive  ... NaN          NaN NaN   \n",
       "3  Custom Background           Single     Alive  ... NaN          NaN NaN   \n",
       "4             Hermit           Single     Alive  ... NaN          NaN NaN   \n",
       "\n",
       "                       ASI 1                      ASI 2     ASI 3  ASI 4  \\\n",
       "0                    Crusher  Ability Score Improvement  Grappler  Tough   \n",
       "1                     Gunner                    Piercer       NaN    NaN   \n",
       "2  Ability Score Improvement                        NaN       NaN    NaN   \n",
       "3                        NaN                        NaN       NaN    NaN   \n",
       "4                        NaN                        NaN       NaN    NaN   \n",
       "\n",
       "   ASI 5  ASI 6  ASI 7  \n",
       "0    NaN    NaN    NaN  \n",
       "1    NaN    NaN    NaN  \n",
       "2    NaN    NaN    NaN  \n",
       "3    NaN    NaN    NaN  \n",
       "4    NaN    NaN    NaN  \n",
       "\n",
       "[5 rows x 29 columns]"
      ],
      "text/html": [
       "<div>\n",
       "<style scoped>\n",
       "    .dataframe tbody tr th:only-of-type {\n",
       "        vertical-align: middle;\n",
       "    }\n",
       "\n",
       "    .dataframe tbody tr th {\n",
       "        vertical-align: top;\n",
       "    }\n",
       "\n",
       "    .dataframe thead th {\n",
       "        text-align: right;\n",
       "    }\n",
       "</style>\n",
       "<table border=\"1\" class=\"dataframe\">\n",
       "  <thead>\n",
       "    <tr style=\"text-align: right;\">\n",
       "      <th></th>\n",
       "      <th>Name</th>\n",
       "      <th>Gender</th>\n",
       "      <th>Race</th>\n",
       "      <th>Size</th>\n",
       "      <th>Align_Law</th>\n",
       "      <th>Align_Moral</th>\n",
       "      <th>Age</th>\n",
       "      <th>Background</th>\n",
       "      <th>Relationships</th>\n",
       "      <th>Wellbeing</th>\n",
       "      <th>...</th>\n",
       "      <th>l3</th>\n",
       "      <th>Multiclass 3</th>\n",
       "      <th>l4</th>\n",
       "      <th>ASI 1</th>\n",
       "      <th>ASI 2</th>\n",
       "      <th>ASI 3</th>\n",
       "      <th>ASI 4</th>\n",
       "      <th>ASI 5</th>\n",
       "      <th>ASI 6</th>\n",
       "      <th>ASI 7</th>\n",
       "    </tr>\n",
       "  </thead>\n",
       "  <tbody>\n",
       "    <tr>\n",
       "      <th>0</th>\n",
       "      <td>Ursa</td>\n",
       "      <td>Female</td>\n",
       "      <td>Half-Elf</td>\n",
       "      <td>Medium</td>\n",
       "      <td>Chaotic</td>\n",
       "      <td>Neutral</td>\n",
       "      <td>22.0</td>\n",
       "      <td>Criminal</td>\n",
       "      <td>In Relationship</td>\n",
       "      <td>Alive</td>\n",
       "      <td>...</td>\n",
       "      <td>NaN</td>\n",
       "      <td>NaN</td>\n",
       "      <td>NaN</td>\n",
       "      <td>Crusher</td>\n",
       "      <td>Ability Score Improvement</td>\n",
       "      <td>Grappler</td>\n",
       "      <td>Tough</td>\n",
       "      <td>NaN</td>\n",
       "      <td>NaN</td>\n",
       "      <td>NaN</td>\n",
       "    </tr>\n",
       "    <tr>\n",
       "      <th>1</th>\n",
       "      <td>Emily</td>\n",
       "      <td>Female</td>\n",
       "      <td>Tabaxi</td>\n",
       "      <td>Medium</td>\n",
       "      <td>Chaotic</td>\n",
       "      <td>Good</td>\n",
       "      <td>20.0</td>\n",
       "      <td>House Agent</td>\n",
       "      <td>In Relationship</td>\n",
       "      <td>Alive</td>\n",
       "      <td>...</td>\n",
       "      <td>NaN</td>\n",
       "      <td>NaN</td>\n",
       "      <td>NaN</td>\n",
       "      <td>Gunner</td>\n",
       "      <td>Piercer</td>\n",
       "      <td>NaN</td>\n",
       "      <td>NaN</td>\n",
       "      <td>NaN</td>\n",
       "      <td>NaN</td>\n",
       "      <td>NaN</td>\n",
       "    </tr>\n",
       "    <tr>\n",
       "      <th>2</th>\n",
       "      <td>Anillia Wulf</td>\n",
       "      <td>Female</td>\n",
       "      <td>Human</td>\n",
       "      <td>Medium</td>\n",
       "      <td>Chaotic</td>\n",
       "      <td>Good</td>\n",
       "      <td>20.0</td>\n",
       "      <td>Entertainer</td>\n",
       "      <td>Single</td>\n",
       "      <td>Alive</td>\n",
       "      <td>...</td>\n",
       "      <td>NaN</td>\n",
       "      <td>NaN</td>\n",
       "      <td>NaN</td>\n",
       "      <td>Ability Score Improvement</td>\n",
       "      <td>NaN</td>\n",
       "      <td>NaN</td>\n",
       "      <td>NaN</td>\n",
       "      <td>NaN</td>\n",
       "      <td>NaN</td>\n",
       "      <td>NaN</td>\n",
       "    </tr>\n",
       "    <tr>\n",
       "      <th>3</th>\n",
       "      <td>Belkas Amberwood</td>\n",
       "      <td>Male</td>\n",
       "      <td>Halfling</td>\n",
       "      <td>Small</td>\n",
       "      <td>Lawful</td>\n",
       "      <td>Good</td>\n",
       "      <td>35.0</td>\n",
       "      <td>Custom Background</td>\n",
       "      <td>Single</td>\n",
       "      <td>Alive</td>\n",
       "      <td>...</td>\n",
       "      <td>NaN</td>\n",
       "      <td>NaN</td>\n",
       "      <td>NaN</td>\n",
       "      <td>NaN</td>\n",
       "      <td>NaN</td>\n",
       "      <td>NaN</td>\n",
       "      <td>NaN</td>\n",
       "      <td>NaN</td>\n",
       "      <td>NaN</td>\n",
       "      <td>NaN</td>\n",
       "    </tr>\n",
       "    <tr>\n",
       "      <th>4</th>\n",
       "      <td>Sylia Nightblossom</td>\n",
       "      <td>Female</td>\n",
       "      <td>Elf</td>\n",
       "      <td>Medium</td>\n",
       "      <td>Chaotic</td>\n",
       "      <td>Neutral</td>\n",
       "      <td>17.0</td>\n",
       "      <td>Hermit</td>\n",
       "      <td>Single</td>\n",
       "      <td>Alive</td>\n",
       "      <td>...</td>\n",
       "      <td>NaN</td>\n",
       "      <td>NaN</td>\n",
       "      <td>NaN</td>\n",
       "      <td>NaN</td>\n",
       "      <td>NaN</td>\n",
       "      <td>NaN</td>\n",
       "      <td>NaN</td>\n",
       "      <td>NaN</td>\n",
       "      <td>NaN</td>\n",
       "      <td>NaN</td>\n",
       "    </tr>\n",
       "  </tbody>\n",
       "</table>\n",
       "<p>5 rows × 29 columns</p>\n",
       "</div>"
      ]
     },
     "execution_count": 217,
     "metadata": {},
     "output_type": "execute_result"
    }
   ],
   "execution_count": 217
  },
  {
   "metadata": {},
   "cell_type": "markdown",
   "source": "### Data type transformation",
   "id": "b5b22f48aa5c01f"
  },
  {
   "metadata": {
    "ExecuteTime": {
     "end_time": "2024-10-01T14:52:09.720547Z",
     "start_time": "2024-10-01T14:52:09.713786Z"
    }
   },
   "cell_type": "code",
   "source": [
    "# Gold to float \n",
    "data[\"Gold\"] = data[\"Gold\"].str.replace(\"g\", \"\")\n",
    "data[\"Gold\"] = data[\"Gold\"].str.replace(\".\", \"\")\n",
    "data[\"Gold\"] = data[\"Gold\"].str.replace(\",\", \".\")\n",
    "data[\"Gold\"] = pd.to_numeric(data[\"Gold\"])"
   ],
   "id": "547b9c2d14f494fe",
   "outputs": [],
   "execution_count": 218
  },
  {
   "metadata": {
    "ExecuteTime": {
     "end_time": "2024-10-01T14:52:09.802933Z",
     "start_time": "2024-10-01T14:52:09.761836Z"
    }
   },
   "cell_type": "code",
   "source": [
    "# Fill NaN values\n",
    "data[[\"Gold\", \"l2\", \"l3\", \"l4\"]] = data[[\"Gold\", \"l2\", \"l3\", \"l4\"]].fillna(0.0)\n",
    "data[[\"Multiclass 1\", \"Multiclass 2\", \"Multiclass 3\"]] = data[[\"Multiclass 1\", \"Multiclass 2\", \"Multiclass 3\"]].fillna(\"No\")\n",
    "data[[\"ASI 1\", \"ASI 2\", \"ASI 3\", \"ASI 4\", \"ASI 5\", \"ASI 6\", \"ASI 7\"]] = data[[\"ASI 1\", \"ASI 2\", \"ASI 3\", \"ASI 4\", \"ASI 5\", \"ASI 6\", \"ASI 7\"]].fillna(\"None\")\n",
    "data[[\"Level\", \"l1\"]] = data[[\"Level\", \"l1\"]].fillna(1.0)\n",
    "data.head()"
   ],
   "id": "71aa82596004b18f",
   "outputs": [
    {
     "data": {
      "text/plain": [
       "                 Name  Gender      Race    Size Align_Law Align_Moral   Age  \\\n",
       "0                Ursa  Female  Half-Elf  Medium   Chaotic     Neutral  22.0   \n",
       "1               Emily  Female    Tabaxi  Medium   Chaotic        Good  20.0   \n",
       "2        Anillia Wulf  Female     Human  Medium   Chaotic        Good  20.0   \n",
       "3    Belkas Amberwood    Male  Halfling   Small    Lawful        Good  35.0   \n",
       "4  Sylia Nightblossom  Female       Elf  Medium   Chaotic     Neutral  17.0   \n",
       "\n",
       "          Background    Relationships Wellbeing  ...   l3 Multiclass 3   l4  \\\n",
       "0           Criminal  In Relationship     Alive  ...  0.0           No  0.0   \n",
       "1        House Agent  In Relationship     Alive  ...  0.0           No  0.0   \n",
       "2        Entertainer           Single     Alive  ...  0.0           No  0.0   \n",
       "3  Custom Background           Single     Alive  ...  0.0           No  0.0   \n",
       "4             Hermit           Single     Alive  ...  0.0           No  0.0   \n",
       "\n",
       "                       ASI 1                      ASI 2     ASI 3  ASI 4  \\\n",
       "0                    Crusher  Ability Score Improvement  Grappler  Tough   \n",
       "1                     Gunner                    Piercer      None   None   \n",
       "2  Ability Score Improvement                       None      None   None   \n",
       "3                       None                       None      None   None   \n",
       "4                       None                       None      None   None   \n",
       "\n",
       "   ASI 5 ASI 6  ASI 7  \n",
       "0   None  None   None  \n",
       "1   None  None   None  \n",
       "2   None  None   None  \n",
       "3   None  None   None  \n",
       "4   None  None   None  \n",
       "\n",
       "[5 rows x 29 columns]"
      ],
      "text/html": [
       "<div>\n",
       "<style scoped>\n",
       "    .dataframe tbody tr th:only-of-type {\n",
       "        vertical-align: middle;\n",
       "    }\n",
       "\n",
       "    .dataframe tbody tr th {\n",
       "        vertical-align: top;\n",
       "    }\n",
       "\n",
       "    .dataframe thead th {\n",
       "        text-align: right;\n",
       "    }\n",
       "</style>\n",
       "<table border=\"1\" class=\"dataframe\">\n",
       "  <thead>\n",
       "    <tr style=\"text-align: right;\">\n",
       "      <th></th>\n",
       "      <th>Name</th>\n",
       "      <th>Gender</th>\n",
       "      <th>Race</th>\n",
       "      <th>Size</th>\n",
       "      <th>Align_Law</th>\n",
       "      <th>Align_Moral</th>\n",
       "      <th>Age</th>\n",
       "      <th>Background</th>\n",
       "      <th>Relationships</th>\n",
       "      <th>Wellbeing</th>\n",
       "      <th>...</th>\n",
       "      <th>l3</th>\n",
       "      <th>Multiclass 3</th>\n",
       "      <th>l4</th>\n",
       "      <th>ASI 1</th>\n",
       "      <th>ASI 2</th>\n",
       "      <th>ASI 3</th>\n",
       "      <th>ASI 4</th>\n",
       "      <th>ASI 5</th>\n",
       "      <th>ASI 6</th>\n",
       "      <th>ASI 7</th>\n",
       "    </tr>\n",
       "  </thead>\n",
       "  <tbody>\n",
       "    <tr>\n",
       "      <th>0</th>\n",
       "      <td>Ursa</td>\n",
       "      <td>Female</td>\n",
       "      <td>Half-Elf</td>\n",
       "      <td>Medium</td>\n",
       "      <td>Chaotic</td>\n",
       "      <td>Neutral</td>\n",
       "      <td>22.0</td>\n",
       "      <td>Criminal</td>\n",
       "      <td>In Relationship</td>\n",
       "      <td>Alive</td>\n",
       "      <td>...</td>\n",
       "      <td>0.0</td>\n",
       "      <td>No</td>\n",
       "      <td>0.0</td>\n",
       "      <td>Crusher</td>\n",
       "      <td>Ability Score Improvement</td>\n",
       "      <td>Grappler</td>\n",
       "      <td>Tough</td>\n",
       "      <td>None</td>\n",
       "      <td>None</td>\n",
       "      <td>None</td>\n",
       "    </tr>\n",
       "    <tr>\n",
       "      <th>1</th>\n",
       "      <td>Emily</td>\n",
       "      <td>Female</td>\n",
       "      <td>Tabaxi</td>\n",
       "      <td>Medium</td>\n",
       "      <td>Chaotic</td>\n",
       "      <td>Good</td>\n",
       "      <td>20.0</td>\n",
       "      <td>House Agent</td>\n",
       "      <td>In Relationship</td>\n",
       "      <td>Alive</td>\n",
       "      <td>...</td>\n",
       "      <td>0.0</td>\n",
       "      <td>No</td>\n",
       "      <td>0.0</td>\n",
       "      <td>Gunner</td>\n",
       "      <td>Piercer</td>\n",
       "      <td>None</td>\n",
       "      <td>None</td>\n",
       "      <td>None</td>\n",
       "      <td>None</td>\n",
       "      <td>None</td>\n",
       "    </tr>\n",
       "    <tr>\n",
       "      <th>2</th>\n",
       "      <td>Anillia Wulf</td>\n",
       "      <td>Female</td>\n",
       "      <td>Human</td>\n",
       "      <td>Medium</td>\n",
       "      <td>Chaotic</td>\n",
       "      <td>Good</td>\n",
       "      <td>20.0</td>\n",
       "      <td>Entertainer</td>\n",
       "      <td>Single</td>\n",
       "      <td>Alive</td>\n",
       "      <td>...</td>\n",
       "      <td>0.0</td>\n",
       "      <td>No</td>\n",
       "      <td>0.0</td>\n",
       "      <td>Ability Score Improvement</td>\n",
       "      <td>None</td>\n",
       "      <td>None</td>\n",
       "      <td>None</td>\n",
       "      <td>None</td>\n",
       "      <td>None</td>\n",
       "      <td>None</td>\n",
       "    </tr>\n",
       "    <tr>\n",
       "      <th>3</th>\n",
       "      <td>Belkas Amberwood</td>\n",
       "      <td>Male</td>\n",
       "      <td>Halfling</td>\n",
       "      <td>Small</td>\n",
       "      <td>Lawful</td>\n",
       "      <td>Good</td>\n",
       "      <td>35.0</td>\n",
       "      <td>Custom Background</td>\n",
       "      <td>Single</td>\n",
       "      <td>Alive</td>\n",
       "      <td>...</td>\n",
       "      <td>0.0</td>\n",
       "      <td>No</td>\n",
       "      <td>0.0</td>\n",
       "      <td>None</td>\n",
       "      <td>None</td>\n",
       "      <td>None</td>\n",
       "      <td>None</td>\n",
       "      <td>None</td>\n",
       "      <td>None</td>\n",
       "      <td>None</td>\n",
       "    </tr>\n",
       "    <tr>\n",
       "      <th>4</th>\n",
       "      <td>Sylia Nightblossom</td>\n",
       "      <td>Female</td>\n",
       "      <td>Elf</td>\n",
       "      <td>Medium</td>\n",
       "      <td>Chaotic</td>\n",
       "      <td>Neutral</td>\n",
       "      <td>17.0</td>\n",
       "      <td>Hermit</td>\n",
       "      <td>Single</td>\n",
       "      <td>Alive</td>\n",
       "      <td>...</td>\n",
       "      <td>0.0</td>\n",
       "      <td>No</td>\n",
       "      <td>0.0</td>\n",
       "      <td>None</td>\n",
       "      <td>None</td>\n",
       "      <td>None</td>\n",
       "      <td>None</td>\n",
       "      <td>None</td>\n",
       "      <td>None</td>\n",
       "      <td>None</td>\n",
       "    </tr>\n",
       "  </tbody>\n",
       "</table>\n",
       "<p>5 rows × 29 columns</p>\n",
       "</div>"
      ]
     },
     "execution_count": 219,
     "metadata": {},
     "output_type": "execute_result"
    }
   ],
   "execution_count": 219
  },
  {
   "metadata": {},
   "cell_type": "markdown",
   "source": [
    "# First Look\n",
    "---"
   ],
   "id": "e746dedbe3f3839"
  },
  {
   "metadata": {},
   "cell_type": "markdown",
   "source": "## Numeric Data",
   "id": "279bd67a0914af8c"
  },
  {
   "metadata": {
    "ExecuteTime": {
     "end_time": "2024-10-01T14:52:10.007464Z",
     "start_time": "2024-10-01T14:52:09.982734Z"
    }
   },
   "cell_type": "code",
   "source": "data[[\"Age\", \"Gold\", \"Level\"]].describe()",
   "id": "c30fae71a7f2c20d",
   "outputs": [
    {
     "data": {
      "text/plain": [
       "              Age         Gold     Level\n",
       "count   20.000000    20.000000  20.00000\n",
       "mean    47.150000   233.850000   6.15000\n",
       "std     45.640789   812.598967   4.27077\n",
       "min     17.000000     1.000000   2.00000\n",
       "25%     20.000000     9.500000   3.00000\n",
       "50%     35.000000    11.500000   3.50000\n",
       "75%     40.500000    17.500000  10.25000\n",
       "max    200.000000  3650.000000  15.00000"
      ],
      "text/html": [
       "<div>\n",
       "<style scoped>\n",
       "    .dataframe tbody tr th:only-of-type {\n",
       "        vertical-align: middle;\n",
       "    }\n",
       "\n",
       "    .dataframe tbody tr th {\n",
       "        vertical-align: top;\n",
       "    }\n",
       "\n",
       "    .dataframe thead th {\n",
       "        text-align: right;\n",
       "    }\n",
       "</style>\n",
       "<table border=\"1\" class=\"dataframe\">\n",
       "  <thead>\n",
       "    <tr style=\"text-align: right;\">\n",
       "      <th></th>\n",
       "      <th>Age</th>\n",
       "      <th>Gold</th>\n",
       "      <th>Level</th>\n",
       "    </tr>\n",
       "  </thead>\n",
       "  <tbody>\n",
       "    <tr>\n",
       "      <th>count</th>\n",
       "      <td>20.000000</td>\n",
       "      <td>20.000000</td>\n",
       "      <td>20.00000</td>\n",
       "    </tr>\n",
       "    <tr>\n",
       "      <th>mean</th>\n",
       "      <td>47.150000</td>\n",
       "      <td>233.850000</td>\n",
       "      <td>6.15000</td>\n",
       "    </tr>\n",
       "    <tr>\n",
       "      <th>std</th>\n",
       "      <td>45.640789</td>\n",
       "      <td>812.598967</td>\n",
       "      <td>4.27077</td>\n",
       "    </tr>\n",
       "    <tr>\n",
       "      <th>min</th>\n",
       "      <td>17.000000</td>\n",
       "      <td>1.000000</td>\n",
       "      <td>2.00000</td>\n",
       "    </tr>\n",
       "    <tr>\n",
       "      <th>25%</th>\n",
       "      <td>20.000000</td>\n",
       "      <td>9.500000</td>\n",
       "      <td>3.00000</td>\n",
       "    </tr>\n",
       "    <tr>\n",
       "      <th>50%</th>\n",
       "      <td>35.000000</td>\n",
       "      <td>11.500000</td>\n",
       "      <td>3.50000</td>\n",
       "    </tr>\n",
       "    <tr>\n",
       "      <th>75%</th>\n",
       "      <td>40.500000</td>\n",
       "      <td>17.500000</td>\n",
       "      <td>10.25000</td>\n",
       "    </tr>\n",
       "    <tr>\n",
       "      <th>max</th>\n",
       "      <td>200.000000</td>\n",
       "      <td>3650.000000</td>\n",
       "      <td>15.00000</td>\n",
       "    </tr>\n",
       "  </tbody>\n",
       "</table>\n",
       "</div>"
      ]
     },
     "execution_count": 220,
     "metadata": {},
     "output_type": "execute_result"
    }
   ],
   "execution_count": 220
  },
  {
   "metadata": {},
   "cell_type": "markdown",
   "source": "## Categorical Data (Personal)",
   "id": "8318a27da9fcf65d"
  },
  {
   "metadata": {
    "ExecuteTime": {
     "end_time": "2024-10-01T14:52:10.269410Z",
     "start_time": "2024-10-01T14:52:10.239331Z"
    }
   },
   "cell_type": "code",
   "source": "data[[\"Gender\", \"Race\", \"Size\", \"Align_Law\", \"Align_Moral\", \"Background\", \"Relationships\", \"Wellbeing\", \"Status\"]].describe()",
   "id": "550fe6710a8d9cce",
   "outputs": [
    {
     "data": {
      "text/plain": [
       "        Gender Race    Size Align_Law Align_Moral Background Relationships  \\\n",
       "count       20   20      20        20          20         20            20   \n",
       "unique       2   11       2         3           2         17             4   \n",
       "top     Female  Elf  Medium   Chaotic     Neutral   Criminal        Single   \n",
       "freq        13    4      13         8          11          3            12   \n",
       "\n",
       "       Wellbeing   Status  \n",
       "count         20       20  \n",
       "unique         1        3  \n",
       "top        Alive  Concept  \n",
       "freq          20       10  "
      ],
      "text/html": [
       "<div>\n",
       "<style scoped>\n",
       "    .dataframe tbody tr th:only-of-type {\n",
       "        vertical-align: middle;\n",
       "    }\n",
       "\n",
       "    .dataframe tbody tr th {\n",
       "        vertical-align: top;\n",
       "    }\n",
       "\n",
       "    .dataframe thead th {\n",
       "        text-align: right;\n",
       "    }\n",
       "</style>\n",
       "<table border=\"1\" class=\"dataframe\">\n",
       "  <thead>\n",
       "    <tr style=\"text-align: right;\">\n",
       "      <th></th>\n",
       "      <th>Gender</th>\n",
       "      <th>Race</th>\n",
       "      <th>Size</th>\n",
       "      <th>Align_Law</th>\n",
       "      <th>Align_Moral</th>\n",
       "      <th>Background</th>\n",
       "      <th>Relationships</th>\n",
       "      <th>Wellbeing</th>\n",
       "      <th>Status</th>\n",
       "    </tr>\n",
       "  </thead>\n",
       "  <tbody>\n",
       "    <tr>\n",
       "      <th>count</th>\n",
       "      <td>20</td>\n",
       "      <td>20</td>\n",
       "      <td>20</td>\n",
       "      <td>20</td>\n",
       "      <td>20</td>\n",
       "      <td>20</td>\n",
       "      <td>20</td>\n",
       "      <td>20</td>\n",
       "      <td>20</td>\n",
       "    </tr>\n",
       "    <tr>\n",
       "      <th>unique</th>\n",
       "      <td>2</td>\n",
       "      <td>11</td>\n",
       "      <td>2</td>\n",
       "      <td>3</td>\n",
       "      <td>2</td>\n",
       "      <td>17</td>\n",
       "      <td>4</td>\n",
       "      <td>1</td>\n",
       "      <td>3</td>\n",
       "    </tr>\n",
       "    <tr>\n",
       "      <th>top</th>\n",
       "      <td>Female</td>\n",
       "      <td>Elf</td>\n",
       "      <td>Medium</td>\n",
       "      <td>Chaotic</td>\n",
       "      <td>Neutral</td>\n",
       "      <td>Criminal</td>\n",
       "      <td>Single</td>\n",
       "      <td>Alive</td>\n",
       "      <td>Concept</td>\n",
       "    </tr>\n",
       "    <tr>\n",
       "      <th>freq</th>\n",
       "      <td>13</td>\n",
       "      <td>4</td>\n",
       "      <td>13</td>\n",
       "      <td>8</td>\n",
       "      <td>11</td>\n",
       "      <td>3</td>\n",
       "      <td>12</td>\n",
       "      <td>20</td>\n",
       "      <td>10</td>\n",
       "    </tr>\n",
       "  </tbody>\n",
       "</table>\n",
       "</div>"
      ]
     },
     "execution_count": 221,
     "metadata": {},
     "output_type": "execute_result"
    }
   ],
   "execution_count": 221
  },
  {
   "metadata": {},
   "cell_type": "markdown",
   "source": "## Gender",
   "id": "cf82208d5733f22f"
  },
  {
   "metadata": {
    "ExecuteTime": {
     "end_time": "2024-10-01T14:52:10.561737Z",
     "start_time": "2024-10-01T14:52:10.412476Z"
    }
   },
   "cell_type": "code",
   "source": [
    "fig, ax = plt.subplots(figsize=(8, 8))\n",
    "\n",
    "count = data.Gender.value_counts(sort=True, normalize=True)\n",
    "ax.pie(count, labels=count.index)\n",
    "ax.set_title(\"Gender\")"
   ],
   "id": "8f35f4e726aeefa0",
   "outputs": [
    {
     "data": {
      "text/plain": [
       "Text(0.5, 1.0, 'Gender')"
      ]
     },
     "execution_count": 222,
     "metadata": {},
     "output_type": "execute_result"
    },
    {
     "data": {
      "text/plain": [
       "<Figure size 800x800 with 1 Axes>"
      ],
      "image/png": "[encoded data removed]"
     },
     "metadata": {},
     "output_type": "display_data"
    }
   ],
   "execution_count": 222
  },
  {
   "metadata": {},
   "cell_type": "markdown",
   "source": "## Race & Size",
   "id": "10775c33677faf60"
  },
  {
   "metadata": {
    "ExecuteTime": {
     "end_time": "2024-10-01T14:52:11.038987Z",
     "start_time": "2024-10-01T14:52:10.710083Z"
    }
   },
   "cell_type": "code",
   "source": [
    "fig, (ax1, ax2) = plt.subplots(1, 2, figsize=(10,10))\n",
    "\n",
    "count = data.Race.value_counts(sort=True, normalize=True)\n",
    "ax1.pie(count, labels=count.index)\n",
    "ax1.set_title('Race')\n",
    "\n",
    "count = data.Size.value_counts(sort=True, normalize=True)\n",
    "ax2.pie(count, labels=count.index)\n",
    "ax2.set_title('Size')"
   ],
   "id": "30f5f1c7f3b411b4",
   "outputs": [
    {
     "data": {
      "text/plain": [
       "Text(0.5, 1.0, 'Size')"
      ]
     },
     "execution_count": 223,
     "metadata": {},
     "output_type": "execute_result"
    },
    {
     "data": {
      "text/plain": [
       "<Figure size 1000x1000 with 2 Axes>"
      ],
      "image/png": "[encoded data removed]"
     },
     "metadata": {},
     "output_type": "display_data"
    }
   ],
   "execution_count": 223
  },
  {
   "metadata": {},
   "cell_type": "markdown",
   "source": "## Alignment",
   "id": "5bd4e821c3b1d786"
  },
  {
   "metadata": {
    "ExecuteTime": {
     "end_time": "2024-10-01T14:52:11.237220Z",
     "start_time": "2024-10-01T14:52:11.049309Z"
    }
   },
   "cell_type": "code",
   "source": [
    "fig, (ax1, ax2) = plt.subplots(1, 2, figsize=(10,10))\n",
    "\n",
    "count = data.Align_Law.value_counts(sort=True, normalize=True)\n",
    "ax1.pie(count, labels=count.index)\n",
    "ax1.set_title('Lawfulness')\n",
    "\n",
    "count = data.Align_Moral.value_counts(sort=True, normalize=True)\n",
    "ax2.pie(count, labels=count.index)\n",
    "ax2.set_title('Morality')"
   ],
   "id": "a1d3957fe14109d9",
   "outputs": [
    {
     "data": {
      "text/plain": [
       "Text(0.5, 1.0, 'Morality')"
      ]
     },
     "execution_count": 224,
     "metadata": {},
     "output_type": "execute_result"
    },
    {
     "data": {
      "text/plain": [
       "<Figure size 1000x1000 with 2 Axes>"
      ],
      "image/png": "[encoded data removed]"
     },
     "metadata": {},
     "output_type": "display_data"
    }
   ],
   "execution_count": 224
  },
  {
   "metadata": {
    "ExecuteTime": {
     "end_time": "2024-10-01T14:52:11.431288Z",
     "start_time": "2024-10-01T14:52:11.245951Z"
    }
   },
   "cell_type": "code",
   "source": [
    "law_map = {\"Lawful\": 0, \"Neutral\": 1, \"Chaotic\": 2}\n",
    "moral_map = {\"Good\": 0, \"Neutral\": 1, \"Evil\": 2}\n",
    "\n",
    "alignment_mapped = data[[\"Align_Law\", \"Align_Moral\"]]\n",
    "alignment_mapped[\"Align_Law\"] = alignment_mapped[\"Align_Law\"].map(law_map)\n",
    "alignment_mapped[\"Align_Moral\"] = alignment_mapped[\"Align_Moral\"].map(moral_map)\n",
    "\n",
    "plt.figure(figsize=(10,6))\n",
    "sns.stripplot(x=\"Align_Law\", y=\"Align_Moral\", data=alignment_mapped, jitter=True, size=8)\n",
    "\n",
    "plt.xticks([0,1,2], [\"Lawful\", \"Neutral\", \"Chaotic\"])\n",
    "plt.yticks([0,1,2], [\"Good\", \"Neutral\", \"Evil\"])\n",
    "\n",
    "plt.xlabel(\"Lawfulness\")\n",
    "plt.ylabel(\"Morality\")\n",
    "plt.title(\"Alignment\")\n",
    "plt.show()  "
   ],
   "id": "13cdd4663e898f8e",
   "outputs": [
    {
     "data": {
      "text/plain": [
       "<Figure size 1000x600 with 1 Axes>"
      ],
      "image/png": "[encoded data removed]"
     },
     "metadata": {},
     "output_type": "display_data"
    }
   ],
   "execution_count": 225
  }
 ],
 "metadata": {
  "kernelspec": {
   "display_name": "Python 3",
   "language": "python",
   "name": "python3"
  },
  "language_info": {
   "codemirror_mode": {
    "name": "ipython",
    "version": 2
   },
   "file_extension": ".py",
   "mimetype": "text/x-python",
   "name": "python",
   "nbconvert_exporter": "python",
   "pygments_lexer": "ipython2",
   "version": "2.7.6"
  }
 },
 "nbformat": 4,
 "nbformat_minor": 5
}
